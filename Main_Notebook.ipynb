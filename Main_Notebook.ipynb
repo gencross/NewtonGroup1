{
  "nbformat": 4,
  "nbformat_minor": 0,
  "metadata": {
    "colab": {
      "name": "Main Notebook.ipynb",
      "provenance": [],
      "include_colab_link": true
    },
    "kernelspec": {
      "name": "python3",
      "display_name": "Python 3"
    }
  },
  "cells": [
    {
      "cell_type": "markdown",
      "metadata": {
        "id": "view-in-github",
        "colab_type": "text"
      },
      "source": [
        "<a href=\"https://colab.research.google.com/github/gencross/NewtonGroup1/blob/main/Main_Notebook.ipynb\" target=\"_parent\"><img src=\"https://colab.research.google.com/assets/colab-badge.svg\" alt=\"Open In Colab\"/></a>"
      ]
    },
    {
      "cell_type": "markdown",
      "metadata": {
        "id": "Nn7RSlJSWXPc"
      },
      "source": [
        "Newtons Method can be used to find the roots of a differentiable function $f(x)$. Given a starting guess, $x_{0}$, $x_{n+1}$ is defined as $x_{n} - \\frac{f(x_{n})}{f'(x_{n})} $. Depending on the choice of $x_{0}$, the series $x_{n}$ may approach different real and complex roots of the function. "
      ]
    },
    {
      "cell_type": "code",
      "metadata": {
        "colab": {
          "base_uri": "https://localhost:8080/"
        },
        "id": "ljzjp-cCTnGx",
        "outputId": "326a5deb-7a0c-455a-becb-38a7072d5536"
      },
      "source": [
        "print(\"Hello, world!\")"
      ],
      "execution_count": null,
      "outputs": [
        {
          "output_type": "stream",
          "text": [
            "Hello, world!\n"
          ],
          "name": "stdout"
        }
      ]
    },
    {
      "cell_type": "code",
      "metadata": {
        "id": "xE5UqcDJTxeQ"
      },
      "source": [
        ""
      ],
      "execution_count": null,
      "outputs": []
    }
  ]
}