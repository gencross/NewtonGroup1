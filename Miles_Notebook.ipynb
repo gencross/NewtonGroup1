{
  "nbformat": 4,
  "nbformat_minor": 0,
  "metadata": {
    "colab": {
      "name": "Miles_Notebook.ipynb",
      "provenance": [],
      "authorship_tag": "ABX9TyOQiwSiivVvuNyhgsaWcwXV",
      "include_colab_link": true
    },
    "kernelspec": {
      "name": "python3",
      "display_name": "Python 3"
    }
  },
  "cells": [
    {
      "cell_type": "markdown",
      "metadata": {
        "id": "view-in-github",
        "colab_type": "text"
      },
      "source": [
        "<a href=\"https://colab.research.google.com/github/gencross/NewtonGroup1/blob/main/Miles_Notebook.ipynb\" target=\"_parent\"><img src=\"https://colab.research.google.com/assets/colab-badge.svg\" alt=\"Open In Colab\"/></a>"
      ]
    },
    {
      "cell_type": "code",
      "metadata": {
        "colab": {
          "base_uri": "https://localhost:8080/"
        },
        "id": "cOLfEiKxUtuk",
        "outputId": "631786f4-c2e8-4239-9f55-e37d515d1cd4"
      },
      "source": [
        "def derivative(p):\r\n",
        "  '''Takes a list as input. The list represents the coefficients of a polynomial\r\n",
        "  with degree equal to 1+length of list. Returns a list representing the \r\n",
        "  derivative of that polynomial.\r\n",
        "  '''\r\n",
        "  d = p\r\n",
        "  for n in range(1,len(p)):\r\n",
        "    d[n-1] = d[n] * n\r\n",
        "  d[-1] = 0\r\n",
        "  return d\r\n",
        "\r\n",
        "derivative([1,2,3,4])"
      ],
      "execution_count": 9,
      "outputs": [
        {
          "output_type": "execute_result",
          "data": {
            "text/plain": [
              "[2, 6, 12, 0]"
            ]
          },
          "metadata": {
            "tags": []
          },
          "execution_count": 9
        }
      ]
    },
    {
      "cell_type": "code",
      "metadata": {
        "id": "6cqVkGPAZUpw"
      },
      "source": [
        ""
      ],
      "execution_count": null,
      "outputs": []
    }
  ]
}