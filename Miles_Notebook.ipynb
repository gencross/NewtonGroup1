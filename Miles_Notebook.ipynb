{
  "nbformat": 4,
  "nbformat_minor": 0,
  "metadata": {
    "colab": {
      "name": "Miles_Notebook.ipynb",
      "provenance": [],
      "authorship_tag": "ABX9TyP7y5vRppyigEBZQk3TsMa3",
      "include_colab_link": true
    },
    "kernelspec": {
      "name": "python3",
      "display_name": "Python 3"
    }
  },
  "cells": [
    {
      "cell_type": "markdown",
      "metadata": {
        "id": "view-in-github",
        "colab_type": "text"
      },
      "source": [
        "<a href=\"https://colab.research.google.com/github/gencross/NewtonGroup1/blob/main/Miles_Notebook.ipynb\" target=\"_parent\"><img src=\"https://colab.research.google.com/assets/colab-badge.svg\" alt=\"Open In Colab\"/></a>"
      ]
    },
    {
      "cell_type": "code",
      "metadata": {
        "id": "MinNCxx1fSlv"
      },
      "source": [
        "import numpy as np\r\n",
        "from numpy.polynomial.polynomial import polyder\r\n",
        "from numpy.polynomial.polynomial import polyval\r\n",
        "import pandas as pd\r\n",
        "from PIL import Image"
      ],
      "execution_count": 64,
      "outputs": []
    },
    {
      "cell_type": "code",
      "metadata": {
        "colab": {
          "base_uri": "https://localhost:8080/"
        },
        "id": "cOLfEiKxUtuk",
        "outputId": "3a901ce0-85c5-411b-e8a9-ecb2d85e2d4b"
      },
      "source": [
        "def derivative(p):\r\n",
        "  '''Takes a list as input. The list represents the coefficients of a polynomial\r\n",
        "  with degree equal to 1+length of list. Returns a list representing the \r\n",
        "  derivative of that polynomial.\r\n",
        "  '''\r\n",
        "  d = p\r\n",
        "  for n in range(1,len(p)):\r\n",
        "    d[n-1] = d[n] * n\r\n",
        "  d[-1] = 0\r\n",
        "  return d\r\n",
        "\r\n",
        "derivative([1,2,3,4])"
      ],
      "execution_count": 2,
      "outputs": [
        {
          "output_type": "execute_result",
          "data": {
            "text/plain": [
              "[2, 6, 12, 0]"
            ]
          },
          "metadata": {
            "tags": []
          },
          "execution_count": 2
        }
      ]
    },
    {
      "cell_type": "code",
      "metadata": {
        "id": "Hcpqjz21f-B-"
      },
      "source": [
        "def newton(P, start, steps=10):\r\n",
        "  root = start\r\n",
        "  P_deriv = polyder(P)\r\n",
        "  for i in range(steps):\r\n",
        "    root = root - (polyval(root,P) / polyval(root,P_deriv))\r\n",
        "  return root"
      ],
      "execution_count": 87,
      "outputs": []
    },
    {
      "cell_type": "code",
      "metadata": {
        "id": "4lDxohDjouo7",
        "outputId": "8377041e-d054-4d31-8510-7000cb6407a6",
        "colab": {
          "base_uri": "https://localhost:8080/"
        }
      },
      "source": [
        "newton([-1,2,8,4],-1.1+2j)"
      ],
      "execution_count": 77,
      "outputs": [
        {
          "output_type": "execute_result",
          "data": {
            "text/plain": [
              "(-0.6555539087329909+0j)"
            ]
          },
          "metadata": {
            "tags": []
          },
          "execution_count": 77
        }
      ]
    },
    {
      "cell_type": "code",
      "metadata": {
        "id": "0IiNdI9SqAqs"
      },
      "source": [
        "fractal = np.zeros((256, 256,3), dtype=np.uint8)\r\n",
        "for y in range(256):\r\n",
        "    gradient[y,:] = [y,0,255-y] # Red = y, Green = 0, Blue = 255-y\r\n",
        "img = Image.fromarray(gradient)\r\n",
        "display(img)"
      ],
      "execution_count": null,
      "outputs": []
    },
    {
      "cell_type": "code",
      "metadata": {
        "id": "4ogqGUcOsmqq"
      },
      "source": [
        "real_min = -2\r\n",
        "real_max = 2\r\n",
        "imag_min = -2\r\n",
        "imag_max = 2\r\n",
        "resolution = 100\r\n",
        "\r\n",
        "x_array = np.linspace(real_min,real_max, resolution * (real_max-real_min) )\r\n",
        "y_array = np.linspace(imag_min,imag_max, resolution * (imag_max-imag_min) )\r\n",
        "\r\n",
        "c_array = np.add.outer(x_array,y_array*1j) #1j is the complex number we usually call i."
      ],
      "execution_count": 85,
      "outputs": []
    },
    {
      "cell_type": "code",
      "metadata": {
        "id": "-SIikUK_wEUc",
        "outputId": "13647236-9f3c-4c0b-e2b1-73448bf22d8d",
        "colab": {
          "base_uri": "https://localhost:8080/"
        }
      },
      "source": [
        "newton([-1,2,8,4], c_array)"
      ],
      "execution_count": 88,
      "outputs": [
        {
          "output_type": "execute_result",
          "data": {
            "text/plain": [
              "array([[-0.65555391+3.81682460e-25j, -0.65555391-1.68424959e-25j,\n",
              "        -0.65555391+3.04942072e-26j, ..., -0.65555391-3.06961555e-26j,\n",
              "        -0.65555391+1.68223010e-25j, -0.65555391-3.81682460e-25j],\n",
              "       [-0.65555391+1.69605095e-28j, -0.65555391-2.52435490e-27j,\n",
              "        -0.65555391+1.36315164e-27j, ..., -0.65555391-1.36315164e-27j,\n",
              "        -0.65555391+2.52435490e-27j, -0.65555391-1.69605095e-28j],\n",
              "       [-0.65555391-9.15078650e-29j, -0.65555391-1.89326617e-29j,\n",
              "        -0.65555391+2.36658272e-29j, ..., -0.65555391-2.36658272e-29j,\n",
              "        -0.65555391+1.89326617e-29j, -0.65555391+9.15078650e-29j],\n",
              "       ...,\n",
              "       [ 0.24059715-4.97247428e-25j,  0.24059715-2.63492164e-25j,\n",
              "         0.24059715-1.34750064e-25j, ...,  0.24059715+1.34750064e-25j,\n",
              "         0.24059715+2.63492164e-25j,  0.24059715+4.97247428e-25j],\n",
              "       [ 0.24059715-2.45064373e-25j,  0.24059715-1.54995391e-25j,\n",
              "         0.24059715-9.15078650e-26j, ...,  0.24059715+9.15078650e-26j,\n",
              "         0.24059715+1.54970147e-25j,  0.24059715+2.45064373e-25j],\n",
              "       [ 0.24059715+2.71273488e-26j,  0.24059715-1.74906240e-26j,\n",
              "         0.24059715-2.43978901e-26j, ...,  0.24059715+2.43978901e-26j,\n",
              "         0.24059715+1.74906240e-26j,  0.24059715-2.71273488e-26j]])"
            ]
          },
          "metadata": {
            "tags": []
          },
          "execution_count": 88
        }
      ]
    }
  ]
}