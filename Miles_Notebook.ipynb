{
  "nbformat": 4,
  "nbformat_minor": 0,
  "metadata": {
    "colab": {
      "name": "Miles_Notebook.ipynb",
      "provenance": [],
      "include_colab_link": true
    },
    "kernelspec": {
      "name": "python3",
      "display_name": "Python 3"
    }
  },
  "cells": [
    {
      "cell_type": "markdown",
      "metadata": {
        "id": "view-in-github",
        "colab_type": "text"
      },
      "source": [
        "<a href=\"https://colab.research.google.com/github/gencross/NewtonGroup1/blob/main/Miles_Notebook.ipynb\" target=\"_parent\"><img src=\"https://colab.research.google.com/assets/colab-badge.svg\" alt=\"Open In Colab\"/></a>"
      ]
    },
    {
      "cell_type": "code",
      "metadata": {
        "id": "MinNCxx1fSlv"
      },
      "source": [
        "import numpy as np\r\n",
        "from numpy.polynomial.polynomial import polyder\r\n",
        "from numpy.polynomial.polynomial import polyval\r\n",
        "from numpy.polynomial.polynomial import polyroots\r\n",
        "import pandas as pd\r\n",
        "from PIL import Image"
      ],
      "execution_count": 2,
      "outputs": []
    },
    {
      "cell_type": "code",
      "metadata": {
        "colab": {
          "base_uri": "https://localhost:8080/"
        },
        "id": "cOLfEiKxUtuk",
        "outputId": "e3e257bc-53c5-4758-8a0e-39ee378ed0dd"
      },
      "source": [
        "def derivative(p):\r\n",
        "  '''Takes a list as input. The list represents the coefficients of a polynomial\r\n",
        "  with degree equal to 1+length of list. Returns a list representing the \r\n",
        "  derivative of that polynomial.\r\n",
        "  '''\r\n",
        "  d = p\r\n",
        "  for n in range(1,len(p)):\r\n",
        "    d[n-1] = d[n] * n\r\n",
        "  d[-1] = 0\r\n",
        "  return d\r\n",
        "\r\n",
        "derivative([1,2,3,4])"
      ],
      "execution_count": 3,
      "outputs": [
        {
          "output_type": "execute_result",
          "data": {
            "text/plain": [
              "[2, 6, 12, 0]"
            ]
          },
          "metadata": {
            "tags": []
          },
          "execution_count": 3
        }
      ]
    },
    {
      "cell_type": "code",
      "metadata": {
        "id": "Hcpqjz21f-B-"
      },
      "source": [
        "def newton(P, start, steps=100):\r\n",
        "  root = start\r\n",
        "  P_deriv = polyder(P)\r\n",
        "  for i in range(steps):\r\n",
        "    root = root - (polyval(root,P) / polyval(root,P_deriv))\r\n",
        "  return root"
      ],
      "execution_count": 4,
      "outputs": []
    },
    {
      "cell_type": "code",
      "metadata": {
        "id": "4ogqGUcOsmqq"
      },
      "source": [
        "real_min = -2\r\n",
        "real_max = 2\r\n",
        "imag_min = -2\r\n",
        "imag_max = 2\r\n",
        "resolution = 200\r\n",
        "\r\n",
        "x_array = np.linspace(real_min,real_max, resolution * (real_max-real_min) )\r\n",
        "y_array = np.linspace(imag_min,imag_max, resolution * (imag_max-imag_min) )\r\n",
        "\r\n",
        "c_array = np.add.outer(x_array,y_array*1j) #1j is the complex number we usually call i."
      ],
      "execution_count": 6,
      "outputs": []
    },
    {
      "cell_type": "code",
      "metadata": {
        "id": "4lDxohDjouo7",
        "colab": {
          "base_uri": "https://localhost:8080/"
        },
        "outputId": "a74ef319-1cf2-4fdc-ac4f-deaab0249507"
      },
      "source": [
        "newton([-1,2,8,4],c_array)"
      ],
      "execution_count": 24,
      "outputs": [
        {
          "output_type": "execute_result",
          "data": {
            "text/plain": [
              "array([[-0.65555391+0.j, -0.65555391+0.j, -0.65555391+0.j, ...,\n",
              "        -0.65555391+0.j, -0.65555391+0.j, -0.65555391+0.j],\n",
              "       [-0.65555391+0.j, -0.65555391+0.j, -0.65555391+0.j, ...,\n",
              "        -0.65555391+0.j, -0.65555391+0.j, -0.65555391+0.j],\n",
              "       [-0.65555391+0.j, -0.65555391+0.j, -0.65555391+0.j, ...,\n",
              "        -0.65555391+0.j, -0.65555391+0.j, -0.65555391+0.j],\n",
              "       ...,\n",
              "       [ 0.24059715+0.j,  0.24059715+0.j,  0.24059715+0.j, ...,\n",
              "         0.24059715+0.j,  0.24059715+0.j,  0.24059715+0.j],\n",
              "       [ 0.24059715+0.j,  0.24059715+0.j,  0.24059715+0.j, ...,\n",
              "         0.24059715+0.j,  0.24059715+0.j,  0.24059715+0.j],\n",
              "       [ 0.24059715+0.j,  0.24059715+0.j,  0.24059715+0.j, ...,\n",
              "         0.24059715+0.j,  0.24059715+0.j,  0.24059715+0.j]])"
            ]
          },
          "metadata": {
            "tags": []
          },
          "execution_count": 24
        }
      ]
    },
    {
      "cell_type": "code",
      "metadata": {
        "id": "Aht-5zh517xT",
        "outputId": "38666d7e-983d-4aaf-c88b-d2ab74086470",
        "colab": {
          "base_uri": "https://localhost:8080/"
        }
      },
      "source": [
        "polyroots([-1,2,8,4])"
      ],
      "execution_count": 25,
      "outputs": [
        {
          "output_type": "execute_result",
          "data": {
            "text/plain": [
              "array([-1.58504324, -0.65555391,  0.24059715])"
            ]
          },
          "metadata": {
            "tags": []
          },
          "execution_count": 25
        }
      ]
    },
    {
      "cell_type": "code",
      "metadata": {
        "id": "-SIikUK_wEUc"
      },
      "source": [
        "I = newton([1,0,0,1], c_array)"
      ],
      "execution_count": 12,
      "outputs": []
    },
    {
      "cell_type": "code",
      "metadata": {
        "id": "eOmPNZIJz7mT",
        "outputId": "957eb9df-7239-4b70-f0d3-1f855875c2e2",
        "colab": {
          "base_uri": "https://localhost:8080/"
        }
      },
      "source": [
        "newton([1,0,0,1], c_array)"
      ],
      "execution_count": 18,
      "outputs": [
        {
          "output_type": "execute_result",
          "data": {
            "text/plain": [
              "array([[-1. +0.j       , -1. +0.j       , -1. +0.j       , ...,\n",
              "        -1. +0.j       , -1. +0.j       , -1. +0.j       ],\n",
              "       [-1. +0.j       , -1. +0.j       , -1. +0.j       , ...,\n",
              "        -1. +0.j       , -1. +0.j       , -1. +0.j       ],\n",
              "       [-1. +0.j       , -1. +0.j       , -1. +0.j       , ...,\n",
              "        -1. +0.j       , -1. +0.j       , -1. +0.j       ],\n",
              "       ...,\n",
              "       [ 0.5-0.8660254j,  0.5-0.8660254j,  0.5-0.8660254j, ...,\n",
              "         0.5+0.8660254j,  0.5+0.8660254j,  0.5+0.8660254j],\n",
              "       [ 0.5-0.8660254j,  0.5-0.8660254j,  0.5-0.8660254j, ...,\n",
              "         0.5+0.8660254j,  0.5+0.8660254j,  0.5+0.8660254j],\n",
              "       [ 0.5-0.8660254j,  0.5-0.8660254j,  0.5-0.8660254j, ...,\n",
              "         0.5+0.8660254j,  0.5+0.8660254j,  0.5+0.8660254j]])"
            ]
          },
          "metadata": {
            "tags": []
          },
          "execution_count": 18
        }
      ]
    },
    {
      "cell_type": "code",
      "metadata": {
        "id": "N7Tbv8e9wxOE",
        "outputId": "f134a93a-05ca-4c68-c851-644d718a7a04",
        "colab": {
          "base_uri": "https://localhost:8080/"
        }
      },
      "source": [
        "polyroots([1,0,0,1])"
      ],
      "execution_count": 14,
      "outputs": [
        {
          "output_type": "execute_result",
          "data": {
            "text/plain": [
              "array([-1. +0.j       ,  0.5-0.8660254j,  0.5+0.8660254j])"
            ]
          },
          "metadata": {
            "tags": []
          },
          "execution_count": 14
        }
      ]
    },
    {
      "cell_type": "code",
      "metadata": {
        "id": "iKmT-xKuneJM",
        "outputId": "f7bc3f80-daf5-44e1-d59e-7c1d38a5d771",
        "colab": {
          "base_uri": "https://localhost:8080/",
          "height": 817
        }
      },
      "source": [
        "fractal = np.zeros((800, 800, 3), dtype=np.uint8)\r\n",
        "for x in range(800):\r\n",
        "  for y in range(800):\r\n",
        "    if I[x,y] == -1. +0.j:\r\n",
        "      fractal[y,x] = [128,0,0] # Red = x, Green = 128, Blue = 0\r\n",
        "    if I[x,y].imag > 0:\r\n",
        "      fractal[y,x] = [0,128,0]\r\n",
        "    if I[x,y].imag < 0:\r\n",
        "      fractal[y,x] = [0,0,128]\r\n",
        "\r\n",
        "img = Image.fromarray(fractal) # Create an image from the array.\r\n",
        "display(img)"
      ],
      "execution_count": 21,
      "outputs": [
        {
          "output_type": "display_data",
          "data": {
            "image/png": "[encoded data removed]",
            "text/plain": [
              "<PIL.Image.Image image mode=RGB size=800x800 at 0x7FA40079D190>"
            ]
          },
          "metadata": {
            "tags": []
          }
        }
      ]
    },
    {
      "cell_type": "code",
      "metadata": {
        "id": "dclTi6IZwvD-",
        "outputId": "0d337000-494e-4813-f4e6-0084d89dee1d",
        "colab": {
          "base_uri": "https://localhost:8080/",
          "height": 17
        }
      },
      "source": [
        "from google.colab import files\r\n",
        "img.save('fractal.png')\r\n",
        "files.download('fractal.png')  # If you want to download the PNG file to your computer."
      ],
      "execution_count": 23,
      "outputs": [
        {
          "output_type": "display_data",
          "data": {
            "application/javascript": [
              "\n",
              "    async function download(id, filename, size) {\n",
              "      if (!google.colab.kernel.accessAllowed) {\n",
              "        return;\n",
              "      }\n",
              "      const div = document.createElement('div');\n",
              "      const label = document.createElement('label');\n",
              "      label.textContent = `Downloading \"${filename}\": `;\n",
              "      div.appendChild(label);\n",
              "      const progress = document.createElement('progress');\n",
              "      progress.max = size;\n",
              "      div.appendChild(progress);\n",
              "      document.body.appendChild(div);\n",
              "\n",
              "      const buffers = [];\n",
              "      let downloaded = 0;\n",
              "\n",
              "      const channel = await google.colab.kernel.comms.open(id);\n",
              "      // Send a message to notify the kernel that we're ready.\n",
              "      channel.send({})\n",
              "\n",
              "      for await (const message of channel.messages) {\n",
              "        // Send a message to notify the kernel that we're ready.\n",
              "        channel.send({})\n",
              "        if (message.buffers) {\n",
              "          for (const buffer of message.buffers) {\n",
              "            buffers.push(buffer);\n",
              "            downloaded += buffer.byteLength;\n",
              "            progress.value = downloaded;\n",
              "          }\n",
              "        }\n",
              "      }\n",
              "      const blob = new Blob(buffers, {type: 'application/binary'});\n",
              "      const a = document.createElement('a');\n",
              "      a.href = window.URL.createObjectURL(blob);\n",
              "      a.download = filename;\n",
              "      div.appendChild(a);\n",
              "      a.click();\n",
              "      div.remove();\n",
              "    }\n",
              "  "
            ],
            "text/plain": [
              "<IPython.core.display.Javascript object>"
            ]
          },
          "metadata": {
            "tags": []
          }
        },
        {
          "output_type": "display_data",
          "data": {
            "application/javascript": [
              "download(\"download_5139d31b-e1f9-4bb5-adb7-4de8863fb98c\", \"fractal.png\", 23625)"
            ],
            "text/plain": [
              "<IPython.core.display.Javascript object>"
            ]
          },
          "metadata": {
            "tags": []
          }
        }
      ]
    },
    {
      "cell_type": "code",
      "metadata": {
        "id": "N1Bf6-ps1Kw8"
      },
      "source": [
        ""
      ],
      "execution_count": null,
      "outputs": []
    }
  ]
}