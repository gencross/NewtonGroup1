{
  "nbformat": 4,
  "nbformat_minor": 0,
  "metadata": {
    "colab": {
      "name": "Newtons Basins Notes",
      "provenance": [],
      "authorship_tag": "ABX9TyOQdHeyhLeNp9giHaNfdnnJ",
      "include_colab_link": true
    },
    "kernelspec": {
      "name": "python3",
      "display_name": "Python 3"
    }
  },
  "cells": [
    {
      "cell_type": "markdown",
      "metadata": {
        "id": "view-in-github",
        "colab_type": "text"
      },
      "source": [
        "<a href=\"https://colab.research.google.com/github/gencross/NewtonGroup1/blob/main/Newtons_Basins_Notes.ipynb\" target=\"_parent\"><img src=\"https://colab.research.google.com/assets/colab-badge.svg\" alt=\"Open In Colab\"/></a>"
      ]
    },
    {
      "cell_type": "code",
      "metadata": {
        "id": "76Q4tuEwxcMO"
      },
      "source": [
        "import numpy as np\r\n",
        "from PIL import Image"
      ],
      "execution_count": null,
      "outputs": []
    },
    {
      "cell_type": "code",
      "metadata": {
        "id": "_Nu0kJTwhlpR"
      },
      "source": [
        "# a couple polynomials and their roots for reference. Leading up to 3rd order polynomials\r\n",
        "def f1(x):\r\n",
        "  '''\r\n",
        "  x^3-2x^2-11x+12\r\n",
        "  has roots -3, 1, 4\r\n",
        "  '''\r\n",
        "  return((x**3) - 2*(x**2) - (11*x) + 12)\r\n",
        "\r\n",
        "def f1p(x):\r\n",
        "  return(3*(x**2) - (4*x) - 11)\r\n",
        "\r\n",
        "def f2(x):\r\n",
        "  '''\r\n",
        "  x^2+4x-12\r\n",
        "  has roots 2, -6\r\n",
        "  '''\r\n",
        "  return((x**2) + (4*x) - 12)\r\n",
        "\r\n",
        "def f2p(x):\r\n",
        "  return((2*x) + 4)\r\n",
        "\r\n",
        "\r\n",
        "\r\n"
      ],
      "execution_count": null,
      "outputs": []
    },
    {
      "cell_type": "code",
      "metadata": {
        "id": "08pm5narR9QP"
      },
      "source": [
        "def comp_array(rplus, rmin, iplus, imin, res):\r\n",
        "  #array parameters\r\n",
        "  real_min = rmin\r\n",
        "  real_max = rmax\r\n",
        "  imag_min = imin\r\n",
        "  imag_max = iplus\r\n",
        "  resolution = res\r\n",
        "\r\n",
        "  #array creation\r\n",
        "  x_array = np.linspace(real_min,real_max, resolution * (real_max-real_min) )\r\n",
        "  y_array = np.linspace(imag_min,imag_max, resolution * (imag_max-imag_min) )\r\n",
        "\r\n",
        "  c_array = np.add.outer(x_array,  y_array*1j)\r\n",
        "\r\n",
        "  c_shape=c_array.shape()\r\n",
        "  z_array=np.zeros(c_shape)\r\n",
        "\r\n",
        "\r\n",
        "\r\n"
      ],
      "execution_count": 2,
      "outputs": []
    },
    {
      "cell_type": "code",
      "metadata": {
        "id": "4zEfbgGx6riu"
      },
      "source": [
        ""
      ],
      "execution_count": null,
      "outputs": []
    }
  ]
}